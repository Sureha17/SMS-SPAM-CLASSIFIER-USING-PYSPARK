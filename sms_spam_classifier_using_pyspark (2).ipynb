{
  "nbformat": 4,
  "nbformat_minor": 0,
  "metadata": {
    "colab": {
      "name": "sms spam classifier using pyspark.ipynb",
      "provenance": [],
      "collapsed_sections": []
    },
    "kernelspec": {
      "display_name": "Python 3",
      "name": "python3"
    },
    "language_info": {
      "name": "python"
    }
  },
  "cells": [
    {
      "cell_type": "code",
      "metadata": {
        "colab": {
          "base_uri": "https://localhost:8080/"
        },
        "id": "BUCnsWwSCQdy",
        "outputId": "6248a63b-f721-4f0c-e36c-3eab76f24630"
      },
      "source": [
        "def setupSpark():\n",
        "  # Spark needs to run with Java 8 ... \n",
        "  !pip install -q findspark\n",
        "  !apt-get install openjdk-8-jdk-headless > /dev/null\n",
        "  !echo 2 | update-alternatives --config java > /dev/null\n",
        "  !java -version\n",
        "  import os, findspark\n",
        "  os.environ['JAVA_HOME'] = '/usr/lib/jvm/java-8-openjdk-amd64'\n",
        "  # !echo JAVA_HOME=$JAVA_HOME\n",
        "  !pip install -q pyspark\n",
        "  findspark.init(spark_home='/usr/local/lib/python3.7/dist-packages/pyspark')\n",
        "  !pyspark --version\n",
        "\n",
        "setupSpark()"
      ],
      "execution_count": null,
      "outputs": [
        {
          "name": "stdout",
          "output_type": "stream",
          "text": [
            "openjdk version \"1.8.0_292\"\n",
            "OpenJDK Runtime Environment (build 1.8.0_292-8u292-b10-0ubuntu1~18.04-b10)\n",
            "OpenJDK 64-Bit Server VM (build 25.292-b10, mixed mode)\n",
            "\u001b[K     |████████████████████████████████| 281.3 MB 41 kB/s \n",
            "\u001b[K     |████████████████████████████████| 198 kB 53.7 MB/s \n",
            "\u001b[?25h  Building wheel for pyspark (setup.py) ... \u001b[?25l\u001b[?25hdone\n",
            "Welcome to\n",
            "      ____              __\n",
            "     / __/__  ___ _____/ /__\n",
            "    _\\ \\/ _ \\/ _ `/ __/  '_/\n",
            "   /___/ .__/\\_,_/_/ /_/\\_\\   version 3.2.0\n",
            "      /_/\n",
            "                        \n",
            "Using Scala version 2.12.15, OpenJDK 64-Bit Server VM, 1.8.0_292\n",
            "Branch HEAD\n",
            "Compiled by user ubuntu on 2021-10-06T12:46:30Z\n",
            "Revision 5d45a415f3a29898d92380380cfd82bfc7f579ea\n",
            "Url https://github.com/apache/spark\n",
            "Type --help for more information.\n"
          ]
        }
      ]
    },
    {
      "cell_type": "code",
      "metadata": {
        "id": "toUdM9GBD0J-"
      },
      "source": [
        "from pyspark.sql import SparkSession\n",
        "spark = SparkSession.builder.appName('SpamClassifier').getOrCreate()"
      ],
      "execution_count": null,
      "outputs": []
    },
    {
      "cell_type": "code",
      "metadata": {
        "id": "65ZPnj7qK2mB"
      },
      "source": [
        "# Load data and rename column\n",
        "data = spark.read.option(\"header\", \"false\") \\\n",
        "    .option(\"delimiter\", \"\\t\") \\\n",
        "    .option(\"inferSchema\", \"true\") \\\n",
        "    .csv(\"/content/SMSSpamCollection\") \\\n",
        "    .withColumnRenamed(\"_c0\", \"class\") \\\n",
        "    .withColumnRenamed(\"_c1\", \"text\")"
      ],
      "execution_count": null,
      "outputs": []
    },
    {
      "cell_type": "code",
      "metadata": {
        "colab": {
          "base_uri": "https://localhost:8080/"
        },
        "id": "eqKUVEqpLBzS",
        "outputId": "25b1bb22-ce85-4ff4-82bf-e125f688d690"
      },
      "source": [
        "data.show()"
      ],
      "execution_count": null,
      "outputs": [
        {
          "name": "stdout",
          "output_type": "stream",
          "text": [
            "+-----+--------------------+\n",
            "|class|                text|\n",
            "+-----+--------------------+\n",
            "|  ham|Go until jurong p...|\n",
            "|  ham|Ok lar... Joking ...|\n",
            "| spam|Free entry in 2 a...|\n",
            "|  ham|U dun say so earl...|\n",
            "|  ham|Nah I don't think...|\n",
            "| spam|FreeMsg Hey there...|\n",
            "|  ham|Even my brother i...|\n",
            "|  ham|As per your reque...|\n",
            "| spam|WINNER!! As a val...|\n",
            "| spam|Had your mobile 1...|\n",
            "|  ham|I'm gonna be home...|\n",
            "| spam|SIX chances to wi...|\n",
            "| spam|URGENT! You have ...|\n",
            "|  ham|I've been searchi...|\n",
            "|  ham|I HAVE A DATE ON ...|\n",
            "| spam|XXXMobileMovieClu...|\n",
            "|  ham|Oh k...i'm watchi...|\n",
            "|  ham|Eh u remember how...|\n",
            "|  ham|Fine if thats th...|\n",
            "| spam|England v Macedon...|\n",
            "+-----+--------------------+\n",
            "only showing top 20 rows\n",
            "\n"
          ]
        }
      ]
    },
    {
      "cell_type": "code",
      "metadata": {
        "colab": {
          "base_uri": "https://localhost:8080/"
        },
        "id": "7Mgx4220LMEe",
        "outputId": "1b40674d-028f-4637-dffe-cb8bfe98b7f8"
      },
      "source": [
        "from pyspark.sql.functions import length\n",
        "data = data.withColumn('length',length(data['text']))\n",
        "data.show()"
      ],
      "execution_count": null,
      "outputs": [
        {
          "name": "stdout",
          "output_type": "stream",
          "text": [
            "+-----+--------------------+------+\n",
            "|class|                text|length|\n",
            "+-----+--------------------+------+\n",
            "|  ham|Go until jurong p...|   111|\n",
            "|  ham|Ok lar... Joking ...|    29|\n",
            "| spam|Free entry in 2 a...|   155|\n",
            "|  ham|U dun say so earl...|    49|\n",
            "|  ham|Nah I don't think...|    61|\n",
            "| spam|FreeMsg Hey there...|   147|\n",
            "|  ham|Even my brother i...|    77|\n",
            "|  ham|As per your reque...|   160|\n",
            "| spam|WINNER!! As a val...|   157|\n",
            "| spam|Had your mobile 1...|   154|\n",
            "|  ham|I'm gonna be home...|   109|\n",
            "| spam|SIX chances to wi...|   136|\n",
            "| spam|URGENT! You have ...|   155|\n",
            "|  ham|I've been searchi...|   196|\n",
            "|  ham|I HAVE A DATE ON ...|    35|\n",
            "| spam|XXXMobileMovieClu...|   149|\n",
            "|  ham|Oh k...i'm watchi...|    26|\n",
            "|  ham|Eh u remember how...|    81|\n",
            "|  ham|Fine if thats th...|    56|\n",
            "| spam|England v Macedon...|   155|\n",
            "+-----+--------------------+------+\n",
            "only showing top 20 rows\n",
            "\n"
          ]
        }
      ]
    },
    {
      "cell_type": "code",
      "metadata": {
        "colab": {
          "base_uri": "https://localhost:8080/"
        },
        "id": "KB1igo0NL4fr",
        "outputId": "d52bdf06-1933-47a6-c935-08143e802357"
      },
      "source": [
        "data.groupby('class').mean().show()"
      ],
      "execution_count": null,
      "outputs": [
        {
          "name": "stdout",
          "output_type": "stream",
          "text": [
            "+-----+-----------------+\n",
            "|class|      avg(length)|\n",
            "+-----+-----------------+\n",
            "|  ham|71.45431945307645|\n",
            "| spam|138.6706827309237|\n",
            "+-----+-----------------+\n",
            "\n"
          ]
        }
      ]
    },
    {
      "cell_type": "code",
      "metadata": {
        "id": "RMXjS9_XMCsw"
      },
      "source": [
        "# Import the required packages\n",
        "from pyspark.ml.feature import Tokenizer,StopWordsRemover, CountVectorizer,IDF,StringIndexer\n",
        "from pyspark.ml.feature import VectorAssembler\n",
        "from pyspark.ml.classification import NaiveBayes"
      ],
      "execution_count": null,
      "outputs": []
    },
    {
      "cell_type": "code",
      "metadata": {
        "id": "koo0yrgQMIGg"
      },
      "source": [
        "tokenizer = Tokenizer(inputCol=\"text\", outputCol=\"token_text\")"
      ],
      "execution_count": null,
      "outputs": []
    },
    {
      "cell_type": "code",
      "metadata": {
        "id": "zSYYBLzfNmRI"
      },
      "source": [
        "stopremove = StopWordsRemover(inputCol='token_text',outputCol='stop_tokens')\n"
      ],
      "execution_count": null,
      "outputs": []
    },
    {
      "cell_type": "code",
      "metadata": {
        "id": "Uxg13BtmN7q6"
      },
      "source": [
        "count_vec = CountVectorizer(inputCol='stop_tokens',outputCol='c_vec')\n"
      ],
      "execution_count": null,
      "outputs": []
    },
    {
      "cell_type": "code",
      "metadata": {
        "id": "lM10WkBEN9r5"
      },
      "source": [
        "idf = IDF(inputCol=\"c_vec\", outputCol=\"tf_idf\")\n"
      ],
      "execution_count": null,
      "outputs": []
    },
    {
      "cell_type": "code",
      "metadata": {
        "id": "zV5JYGkYN_bJ"
      },
      "source": [
        "ham_spam_to_num = StringIndexer(inputCol='class',outputCol='label')\n"
      ],
      "execution_count": null,
      "outputs": []
    },
    {
      "cell_type": "code",
      "metadata": {
        "id": "ZUyXpS5sOETB"
      },
      "source": [
        "clean_up = VectorAssembler(inputCols=['tf_idf','length'],outputCol='features')"
      ],
      "execution_count": null,
      "outputs": []
    },
    {
      "cell_type": "code",
      "metadata": {
        "id": "rpUeo8tHQlyH"
      },
      "source": [
        "#pipeline\n",
        "from pyspark.ml import Pipeline\n",
        "data_prep_pipe = Pipeline(stages=[ham_spam_to_num,tokenizer,stopremove,count_vec,idf,clean_up])\n",
        "cleaner = data_prep_pipe.fit(data)\n",
        "clean_data = cleaner.transform(data)"
      ],
      "execution_count": null,
      "outputs": []
    },
    {
      "cell_type": "code",
      "metadata": {
        "colab": {
          "base_uri": "https://localhost:8080/"
        },
        "id": "dqZxv4vrQ2Cy",
        "outputId": "63802a03-cf6c-46c1-a457-6f29dc52fd1d"
      },
      "source": [
        "clean_data = clean_data.select(['label','features'])\n",
        "clean_data.show()"
      ],
      "execution_count": null,
      "outputs": [
        {
          "name": "stdout",
          "output_type": "stream",
          "text": [
            "+-----+--------------------+\n",
            "|label|            features|\n",
            "+-----+--------------------+\n",
            "|  0.0|(13424,[7,11,31,6...|\n",
            "|  0.0|(13424,[0,24,297,...|\n",
            "|  1.0|(13424,[2,13,19,3...|\n",
            "|  0.0|(13424,[0,70,80,1...|\n",
            "|  0.0|(13424,[36,134,31...|\n",
            "|  1.0|(13424,[10,60,139...|\n",
            "|  0.0|(13424,[10,53,103...|\n",
            "|  0.0|(13424,[125,184,4...|\n",
            "|  1.0|(13424,[1,47,118,...|\n",
            "|  1.0|(13424,[0,1,13,27...|\n",
            "|  0.0|(13424,[18,43,120...|\n",
            "|  1.0|(13424,[8,17,37,8...|\n",
            "|  1.0|(13424,[13,30,47,...|\n",
            "|  0.0|(13424,[39,96,217...|\n",
            "|  0.0|(13424,[552,1697,...|\n",
            "|  1.0|(13424,[30,109,11...|\n",
            "|  0.0|(13424,[82,214,47...|\n",
            "|  0.0|(13424,[0,2,49,13...|\n",
            "|  0.0|(13424,[0,74,105,...|\n",
            "|  1.0|(13424,[4,30,33,5...|\n",
            "+-----+--------------------+\n",
            "only showing top 20 rows\n",
            "\n"
          ]
        }
      ]
    },
    {
      "cell_type": "code",
      "metadata": {
        "id": "8Y-zt284OMxM"
      },
      "source": [
        "#model building\n",
        "#NAIVE BAYES CLASSIFICATION\n",
        "from pyspark.ml.classification import NaiveBayes\n",
        "nb = NaiveBayes()"
      ],
      "execution_count": null,
      "outputs": []
    },
    {
      "cell_type": "code",
      "metadata": {
        "colab": {
          "base_uri": "https://localhost:8080/"
        },
        "id": "AY3PPGXpQ4JR",
        "outputId": "dd46ccc8-5b75-41ba-fdaf-3d80abea20f9"
      },
      "source": [
        "(training,testing) = clean_data.randomSplit([0.7,0.3])\n",
        "spam_predictor = nb.fit(training)\n",
        "test_results = spam_predictor.transform(testing)\n",
        "test_results.show()"
      ],
      "execution_count": null,
      "outputs": [
        {
          "name": "stdout",
          "output_type": "stream",
          "text": [
            "+-----+--------------------+--------------------+--------------------+----------+\n",
            "|label|            features|       rawPrediction|         probability|prediction|\n",
            "+-----+--------------------+--------------------+--------------------+----------+\n",
            "|  0.0|(13424,[0,1,2,7,8...|[-806.94799466044...|[1.0,2.3479410130...|       0.0|\n",
            "|  0.0|(13424,[0,1,5,15,...|[-1001.6408342948...|[1.0,9.3702119212...|       0.0|\n",
            "|  0.0|(13424,[0,1,5,20,...|[-805.78872577995...|[1.0,1.4166581215...|       0.0|\n",
            "|  0.0|(13424,[0,1,7,8,1...|[-876.71486473776...|[1.0,1.1602302466...|       0.0|\n",
            "|  0.0|(13424,[0,1,7,8,1...|[-1156.6611689974...|[1.0,5.2461835890...|       0.0|\n",
            "|  0.0|(13424,[0,1,7,15,...|[-660.46559620044...|[1.0,6.6279539962...|       0.0|\n",
            "|  0.0|(13424,[0,1,12,33...|[-439.98325489427...|[1.0,2.1646020202...|       0.0|\n",
            "|  0.0|(13424,[0,1,14,31...|[-216.55291369779...|[1.0,5.8368106453...|       0.0|\n",
            "|  0.0|(13424,[0,1,30,12...|[-594.78841734486...|[1.0,4.1693998733...|       0.0|\n",
            "|  0.0|(13424,[0,1,46,17...|[-1137.6243406127...|[4.01161064259803...|       1.0|\n",
            "|  0.0|(13424,[0,1,498,5...|[-321.97511792369...|[0.99999999998040...|       0.0|\n",
            "|  0.0|(13424,[0,1,3657,...|[-127.87805084142...|[0.99997974364241...|       0.0|\n",
            "|  0.0|(13424,[0,2,3,5,3...|[-505.16616746658...|[1.0,4.0392358538...|       0.0|\n",
            "|  0.0|(13424,[0,2,4,5,1...|[-1636.6424312668...|[1.0,2.7834532349...|       0.0|\n",
            "|  0.0|(13424,[0,2,4,8,1...|[-1307.5490855469...|[1.0,1.3247893805...|       0.0|\n",
            "|  0.0|(13424,[0,2,4,10,...|[-1211.8785464787...|[1.0,1.7314068476...|       0.0|\n",
            "|  0.0|(13424,[0,2,4,11,...|[-1128.5558153485...|[1.0,2.0683990464...|       0.0|\n",
            "|  0.0|(13424,[0,2,4,25,...|[-419.97357492979...|[1.0,6.9515124491...|       0.0|\n",
            "|  0.0|(13424,[0,2,5,8,4...|[-832.47804956728...|[1.0,2.1895191946...|       0.0|\n",
            "|  0.0|(13424,[0,2,7,11,...|[-776.68150957072...|[1.0,5.6385763531...|       0.0|\n",
            "+-----+--------------------+--------------------+--------------------+----------+\n",
            "only showing top 20 rows\n",
            "\n"
          ]
        }
      ]
    },
    {
      "cell_type": "code",
      "metadata": {
        "colab": {
          "base_uri": "https://localhost:8080/"
        },
        "id": "TFOurcGSRv8r",
        "outputId": "c87fe4ae-2d10-419b-ce7c-d9ed06adac03"
      },
      "source": [
        "#model evaluation\n",
        "from pyspark.ml.evaluation import BinaryClassificationEvaluator\n",
        "evaluator = BinaryClassificationEvaluator(rawPredictionCol=\"prediction\")\n",
        "accuracy = evaluator.evaluate(test_results)\n",
        "print (\"Model Accuracy: \", accuracy)"
      ],
      "execution_count": null,
      "outputs": [
        {
          "name": "stdout",
          "output_type": "stream",
          "text": [
            "Model Accuracy:  0.9344879330138764\n"
          ]
        }
      ]
    },
    {
      "cell_type": "code",
      "metadata": {
        "id": "sjj62umD1hIO"
      },
      "source": [
        "from pyspark.ml.tuning import ParamGridBuilder, CrossValidator\n"
      ],
      "execution_count": null,
      "outputs": []
    },
    {
      "cell_type": "code",
      "metadata": {
        "id": "-tlbxcvq1lnz"
      },
      "source": [
        "# Create ParamGrid and Evaluator for Cross Validation\n",
        "paramGrid = ParamGridBuilder().addGrid(nb.smoothing, [0.0, 0.2, 0.4, 0.6, 0.8, 1.0, 1.5, 2.0]).build()\n",
        "cvEvaluator = BinaryClassificationEvaluator(rawPredictionCol=\"prediction\")"
      ],
      "execution_count": null,
      "outputs": []
    },
    {
      "cell_type": "code",
      "metadata": {
        "colab": {
          "background_save": true
        },
        "id": "f5d-KGke1oPc"
      },
      "source": [
        "# Cross-validation\n",
        "cv = CrossValidator(estimator=nb, estimatorParamMaps=paramGrid, evaluator=cvEvaluator)\n",
        "cvModel = cv.fit(training)"
      ],
      "execution_count": null,
      "outputs": []
    },
    {
      "cell_type": "code",
      "metadata": {
        "id": "RZ8I8N_W1rhN"
      },
      "source": [
        "# Making predictions on testData\n",
        "cvPredictions = cvModel.transform(testing)"
      ],
      "execution_count": 22,
      "outputs": []
    },
    {
      "cell_type": "code",
      "metadata": {
        "colab": {
          "base_uri": "https://localhost:8080/"
        },
        "id": "zrpWR6A03pCR",
        "outputId": "688998fd-5a3c-4710-d20a-d78f72206cd5"
      },
      "source": [
        "evaluator.evaluate(cvPredictions)"
      ],
      "execution_count": 23,
      "outputs": [
        {
          "output_type": "execute_result",
          "data": {
            "text/plain": [
              "0.9388165119297196"
            ]
          },
          "metadata": {},
          "execution_count": 23
        }
      ]
    },
    {
      "cell_type": "code",
      "metadata": {
        "colab": {
          "base_uri": "https://localhost:8080/"
        },
        "id": "edxwEXoOdbOG",
        "outputId": "a5d8ed2d-2e66-4f3c-e8e1-1d669a241f82"
      },
      "source": [
        "#LOGISTIC REGRESSION\n",
        "from pyspark.ml.classification import LogisticRegression\n",
        "model_LR = LogisticRegression()\n",
        "spam_predictor2 = model_LR.fit(training)\n",
        "test_results2 = spam_predictor2.transform(testing)\n",
        "test_results2.show()\n"
      ],
      "execution_count": 30,
      "outputs": [
        {
          "output_type": "stream",
          "name": "stdout",
          "text": [
            "+-----+--------------------+--------------------+--------------------+----------+\n",
            "|label|            features|       rawPrediction|         probability|prediction|\n",
            "+-----+--------------------+--------------------+--------------------+----------+\n",
            "|  0.0|(13424,[0,1,2,7,8...|[23.9109924693349...|[0.99999999995873...|       0.0|\n",
            "|  0.0|(13424,[0,1,5,15,...|[21.1380224050058...|[0.99999999933949...|       0.0|\n",
            "|  0.0|(13424,[0,1,5,20,...|[12.7586113244950...|[0.99999712257339...|       0.0|\n",
            "|  0.0|(13424,[0,1,7,8,1...|[15.8444248117310...|[0.99999986852182...|       0.0|\n",
            "|  0.0|(13424,[0,1,7,8,1...|[12.9184237154744...|[0.99999754755768...|       0.0|\n",
            "|  0.0|(13424,[0,1,7,15,...|[20.9029208480573...|[0.99999999916444...|       0.0|\n",
            "|  0.0|(13424,[0,1,12,33...|[20.1236195306672...|[0.99999999817852...|       0.0|\n",
            "|  0.0|(13424,[0,1,14,31...|[20.5321123353411...|[0.99999999878935...|       0.0|\n",
            "|  0.0|(13424,[0,1,30,12...|[14.0861932214231...|[0.99999923714204...|       0.0|\n",
            "|  0.0|(13424,[0,1,46,17...|[14.9351444639054...|[0.99999967360084...|       0.0|\n",
            "|  0.0|(13424,[0,1,498,5...|[18.7234736596864...|[0.99999999261247...|       0.0|\n",
            "|  0.0|(13424,[0,1,3657,...|[18.7894016407926...|[0.99999999308381...|       0.0|\n",
            "|  0.0|(13424,[0,2,3,5,3...|[13.1755897667225...|[0.99999810367292...|       0.0|\n",
            "|  0.0|(13424,[0,2,4,5,1...|[18.3226634316384...|[0.99999998897018...|       0.0|\n",
            "|  0.0|(13424,[0,2,4,8,1...|[16.3486068452719...|[0.99999992058725...|       0.0|\n",
            "|  0.0|(13424,[0,2,4,10,...|[20.1108220187963...|[0.99999999815506...|       0.0|\n",
            "|  0.0|(13424,[0,2,4,11,...|[25.8822054933778...|[0.99999999999425...|       0.0|\n",
            "|  0.0|(13424,[0,2,4,25,...|[20.9284044131550...|[0.99999999918546...|       0.0|\n",
            "|  0.0|(13424,[0,2,5,8,4...|[11.3570809442574...|[0.99998831369168...|       0.0|\n",
            "|  0.0|(13424,[0,2,7,11,...|[22.9754569580617...|[0.99999999989483...|       0.0|\n",
            "+-----+--------------------+--------------------+--------------------+----------+\n",
            "only showing top 20 rows\n",
            "\n"
          ]
        }
      ]
    },
    {
      "cell_type": "code",
      "metadata": {
        "colab": {
          "base_uri": "https://localhost:8080/"
        },
        "id": "sdbbDfHjeSuL",
        "outputId": "43d44dc7-ea30-48a2-95b5-38b5cc2e2e11"
      },
      "source": [
        "from pyspark.ml.evaluation import BinaryClassificationEvaluator\n",
        "evaluator = BinaryClassificationEvaluator(rawPredictionCol=\"prediction\")\n",
        "accuracy = evaluator.evaluate(test_results2)\n",
        "print (\"Model Accuracy: \", accuracy)"
      ],
      "execution_count": 31,
      "outputs": [
        {
          "output_type": "stream",
          "name": "stdout",
          "text": [
            "Model Accuracy:  0.9383345188180093\n"
          ]
        }
      ]
    },
    {
      "cell_type": "code",
      "metadata": {
        "colab": {
          "base_uri": "https://localhost:8080/"
        },
        "id": "2UbB0I2ebJmr",
        "outputId": "3865b6bc-9966-43df-e26e-e69d4aee3425"
      },
      "source": [
        "#RANDOM FOREST CLASSIFICATION\n",
        "from pyspark.ml.classification import RandomForestClassifier\n",
        "model_RF = RandomForestClassifier(numTrees=100)\n",
        "spam_predictor1 = model_RF.fit(training)\n",
        "test_results1 = spam_predictor1.transform(testing)\n",
        "test_results1.show()\n"
      ],
      "execution_count": 26,
      "outputs": [
        {
          "output_type": "stream",
          "name": "stdout",
          "text": [
            "+-----+--------------------+--------------------+--------------------+----------+\n",
            "|label|            features|       rawPrediction|         probability|prediction|\n",
            "+-----+--------------------+--------------------+--------------------+----------+\n",
            "|  0.0|(13424,[0,1,2,7,8...|[87.4441092587759...|[0.87444109258775...|       0.0|\n",
            "|  0.0|(13424,[0,1,5,15,...|[86.3038622316144...|[0.86303862231614...|       0.0|\n",
            "|  0.0|(13424,[0,1,5,20,...|[87.4363684576043...|[0.87436368457604...|       0.0|\n",
            "|  0.0|(13424,[0,1,7,8,1...|[86.7312098575217...|[0.86731209857521...|       0.0|\n",
            "|  0.0|(13424,[0,1,7,8,1...|[87.1489198922227...|[0.87148919892222...|       0.0|\n",
            "|  0.0|(13424,[0,1,7,15,...|[87.7663452872763...|[0.87766345287276...|       0.0|\n",
            "|  0.0|(13424,[0,1,12,33...|[87.7663452872763...|[0.87766345287276...|       0.0|\n",
            "|  0.0|(13424,[0,1,14,31...|[87.7663452872763...|[0.87766345287276...|       0.0|\n",
            "|  0.0|(13424,[0,1,30,12...|[84.5408326675586...|[0.84540832667558...|       0.0|\n",
            "|  0.0|(13424,[0,1,46,17...|[85.8656737371223...|[0.85865673737122...|       0.0|\n",
            "|  0.0|(13424,[0,1,498,5...|[87.7663452872763...|[0.87766345287276...|       0.0|\n",
            "|  0.0|(13424,[0,1,3657,...|[87.7663452872763...|[0.87766345287276...|       0.0|\n",
            "|  0.0|(13424,[0,2,3,5,3...|[85.5243526381135...|[0.85524352638113...|       0.0|\n",
            "|  0.0|(13424,[0,2,4,5,1...|[85.8985793609938...|[0.85898579360993...|       0.0|\n",
            "|  0.0|(13424,[0,2,4,8,1...|[85.9170678251870...|[0.85917067825187...|       0.0|\n",
            "|  0.0|(13424,[0,2,4,10,...|[85.8985793609938...|[0.85898579360993...|       0.0|\n",
            "|  0.0|(13424,[0,2,4,11,...|[87.7992509111477...|[0.87799250911147...|       0.0|\n",
            "|  0.0|(13424,[0,2,4,25,...|[87.7992509111477...|[0.87799250911147...|       0.0|\n",
            "|  0.0|(13424,[0,2,5,8,4...|[88.4417732637326...|[0.88441773263732...|       0.0|\n",
            "|  0.0|(13424,[0,2,7,11,...|[88.7498652578312...|[0.88749865257831...|       0.0|\n",
            "+-----+--------------------+--------------------+--------------------+----------+\n",
            "only showing top 20 rows\n",
            "\n"
          ]
        }
      ]
    },
    {
      "cell_type": "code",
      "metadata": {
        "colab": {
          "base_uri": "https://localhost:8080/"
        },
        "id": "2EwE5ckzcqs8",
        "outputId": "bfb303dc-e59f-46d1-e40c-5dff69e944ac"
      },
      "source": [
        "from pyspark.ml.evaluation import BinaryClassificationEvaluator\n",
        "evaluator = BinaryClassificationEvaluator(rawPredictionCol=\"prediction\")\n",
        "accuracy = evaluator.evaluate(test_results1)\n",
        "print (\"Model Accuracy: \", accuracy)"
      ],
      "execution_count": 29,
      "outputs": [
        {
          "output_type": "stream",
          "name": "stdout",
          "text": [
            "Model Accuracy:  0.5022321428571429\n"
          ]
        }
      ]
    }
  ]
}